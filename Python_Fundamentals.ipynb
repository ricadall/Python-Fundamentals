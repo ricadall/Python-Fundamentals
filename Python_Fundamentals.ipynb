{
  "nbformat": 4,
  "nbformat_minor": 0,
  "metadata": {
    "colab": {
      "name": "Python_Fundamentals.ipynb",
      "provenance": [],
      "collapsed_sections": [],
      "include_colab_link": true
    },
    "kernelspec": {
      "name": "python3",
      "display_name": "Python 3"
    }
  },
  "cells": [
    {
      "cell_type": "markdown",
      "metadata": {
        "id": "view-in-github",
        "colab_type": "text"
      },
      "source": [
        "<a href=\"https://colab.research.google.com/github/ricadall/Python-Fundamentals/blob/main/Python_Fundamentals.ipynb\" target=\"_parent\"><img src=\"https://colab.research.google.com/assets/colab-badge.svg\" alt=\"Open In Colab\"/></a>"
      ]
    },
    {
      "cell_type": "markdown",
      "metadata": {
        "id": "hm8RAKinXsIP"
      },
      "source": [
        "## **Homework 1**\n",
        "\n",
        "### Create a copy of the notebook to start answering the questions. Name your notebook in the format HW1_lastname_firstname.ipynb to facilitate the grading process. \n",
        "\n",
        "### Answer all the questions, test your code to ensure there are no errors and the results are as expected. Once you have answered all the questions, save the final copy, then go to File-> click on Download.ipynb. Once the local copy has been downloaded, submit your file on Blackboard under the corresponding assignment section. Also provide us a link to your notebook during submission. \n",
        "\n",
        "### **The due date of this homework is 02/05/2021 (Friday).**\n",
        "\n",
        "### Please ensure you follow all the steps mentioned in the homework.\n",
        "\n",
        "### All the questions have a sample input and output to help you understand the question. Please note that your programs will be tested for other sets of inputs and outputs along with the sample provided. So test your code for other inputs.\n",
        "\n",
        "### You can submit your solutions any number of times until the deadline.\n"
      ]
    },
    {
      "cell_type": "markdown",
      "metadata": {
        "id": "uacFrEaZfcfq"
      },
      "source": [
        "##### Q1. Write a program that prompts the user to enter a password then prints the length of the password.\n",
        "\n",
        "```\n",
        "Enter your password: hello\n",
        "Your password is 5 long.\n",
        "```\n",
        "\n",
        "\n"
      ]
    },
    {
      "cell_type": "code",
      "metadata": {
        "id": "avPyES14ftCt",
        "colab": {
          "base_uri": "https://localhost:8080/"
        },
        "outputId": "8bc25543-7953-4c3b-e159-5d9d05edd010"
      },
      "source": [
        "# DESCRIPTION: \"program that prompts the user to enter a password then prints the length of the password\"\n",
        "pswd = input(\"Enter your password: \")\n",
        "print(\"Your password is\" , str(len(pswd)) , \"characters long.\")"
      ],
      "execution_count": null,
      "outputs": [
        {
          "output_type": "stream",
          "text": [
            "Enter your password: hello\n",
            "Your password is 5 characters long.\n"
          ],
          "name": "stdout"
        }
      ]
    },
    {
      "cell_type": "markdown",
      "metadata": {
        "id": "ekh-kABuItli"
      },
      "source": [
        ""
      ]
    },
    {
      "cell_type": "markdown",
      "metadata": {
        "id": "K1yko-xUItU3"
      },
      "source": [
        ""
      ]
    },
    {
      "cell_type": "markdown",
      "metadata": {
        "id": "behD0j_Of2TW"
      },
      "source": [
        "##### Q2. Write a program that prompts the user to enter their full name then prints the number of characters in their name (do not count spaces).\n",
        "\n",
        "```\n",
        "What is your name? Amulya Katti\n",
        "Amulya Katti your name has 11 characters.\n",
        "```"
      ]
    },
    {
      "cell_type": "code",
      "metadata": {
        "id": "XSdIRjwlhSlu",
        "colab": {
          "base_uri": "https://localhost:8080/"
        },
        "outputId": "a5c2f083-8484-4a1e-8d6c-26ecf23df2e4"
      },
      "source": [
        "# DESCRIPTION: \"program that prompts the user to enter their full name then prints the number of characters in their name (do not count spaces).\"\n",
        "name = input(\"What is your name? \") # ask user for name input\n",
        "length = 0\n",
        "for ch in name: # counting length\n",
        "  if (ch != \" \"):\n",
        "    length += 1\n",
        "print(name, \", your name has\" , str(length) , \"characters.\") # print name"
      ],
      "execution_count": null,
      "outputs": [
        {
          "output_type": "stream",
          "text": [
            "What is your name? Amulya Katti\n",
            "Amulya Katti your name has 11 characters.\n"
          ],
          "name": "stdout"
        }
      ]
    },
    {
      "cell_type": "markdown",
      "metadata": {
        "id": "5KHOWF6FhVHV"
      },
      "source": [
        "##### Q3. Write a program that prompts the user to enter a month (as a number), then prints the name of the month and the number of days in that month. Ensure that the user inputs a valid month and handle any error cases.\n",
        "\n",
        "```\n",
        "Enter the month number: 9\n",
        "September has 30 days\n",
        "```"
      ]
    },
    {
      "cell_type": "code",
      "metadata": {
        "id": "KhS-SAEThyTG",
        "colab": {
          "base_uri": "https://localhost:8080/"
        },
        "outputId": "f671a4bb-0d38-49d0-b497-d362f19d35d6"
      },
      "source": [
        "# DESCRIPTION: \"program that prompts the user to enter a month (as a number), then prints the name of the month and the number of days in that month.\"\n",
        "\n",
        "# dictionaries for month number, name and day length\n",
        "mon_num_dict = {1:'January', 2:\"February\", 3:\"March\", 4:\"April\", 5:\"May\", 6:\"June\", 7:\"July\", 8:\"August\", 9:\"September\", 10:\"October\", 11:\"November\", 12:\"December\"}\n",
        "mon_day_dict = {'January':31, \"February\":28, \"March\":31, \"April\":30, \"May\":31, \"June\":30, \"July\":31, \"August\":31, \"September\":30, \"October\":31, \"November\":30, \"December\":31}\n",
        "\n",
        "cont = True\n",
        "\n",
        "while cont == True:\n",
        "\n",
        "  user_mon = input(\"Enter the month number: \") # ask user for month input\n",
        "\n",
        "  if user_mon.isnumeric() and int(user_mon) in range(1,12):\n",
        "\n",
        "    user_mon = int(user_mon)\n",
        "\n",
        "    # translate number into month name using mon_num_dict\n",
        "    for k in mon_num_dict:\n",
        "      if k == user_mon:\n",
        "        name = mon_num_dict[k]\n",
        "        \n",
        "    # find month length from month name using mon_day_dict\n",
        "    for k in mon_day_dict:\n",
        "      if k == name:\n",
        "        num_days = mon_day_dict[k]\n",
        "\n",
        "    print(name, \"has\", str(num_days), \"days\") # printing length\n",
        "    \n",
        "    cont = False\n",
        "\n",
        "  # error handling\n",
        "  else:\n",
        "    print(\"This choice is invalid, please try again\")"
      ],
      "execution_count": null,
      "outputs": [
        {
          "output_type": "stream",
          "text": [
            "Enter the month number: three\n",
            "This choice is invalid, please try again\n",
            "Enter the month number: 9\n",
            "September has 30 days\n"
          ],
          "name": "stdout"
        }
      ]
    },
    {
      "cell_type": "markdown",
      "metadata": {
        "id": "O7lnAdGlh6Xa"
      },
      "source": [
        "##### Q4. Write a program that prompts the user to enter a loan amount, annual interest rate, and number of years  for a car loan. Then calculate and print the monthly payment amount.\n",
        "\n",
        "Note:\n",
        "```\n",
        "PMT= [PV*i*((1+i)^n)]/[((1+i)^n)-1]\n",
        "```\n",
        "PMT is the monthly payment\n",
        "\n",
        "PV is the loan amount\n",
        "\n",
        "i is the interest rate per month in decimal form (interest rate percentage divided by 12)\n",
        "\n",
        "n is the number of months (term of the loan in months)\n",
        "\n",
        "```\n",
        "Loan Amount: 30000.00\n",
        "Annual Interest Rate: 4.00\n",
        "Years: 5\n",
        "Your monthly payment is: $552.50\n",
        "```"
      ]
    },
    {
      "cell_type": "code",
      "metadata": {
        "id": "p4B5JH5GiTs9",
        "colab": {
          "base_uri": "https://localhost:8080/"
        },
        "outputId": "28dac8bf-86f9-4711-dbff-bb0ac1386486"
      },
      "source": [
        "# DESCRIPTION: \"program that prompts the user to enter a loan amount, annual interest rate, and number of years for a car loan\" then calculates and prints the monthly payment amount\n",
        "\n",
        "# asking user for input\n",
        "PV = float(input(\"Loan Amount: \"))\n",
        "AIR = float(input(\"Annual Interest Rate: \"))\n",
        "years = int(input(\"Years: \"))\n",
        "\n",
        "# converting to varibales that can be used in equation\n",
        "i = (AIR/100.0)/12.0\n",
        "n = float(years)*12.0\n",
        "\n",
        "PMT = PV * (i * (1 + i) ** n) / ((1 + i) ** n - 1) # caluculating PMT\n",
        "print(\"Your monthly payment is: $\" + str(PMT)) # printing PMT\n"
      ],
      "execution_count": null,
      "outputs": [
        {
          "output_type": "stream",
          "text": [
            "Loan Amount: 30000\n",
            "Annual Interest Rate: 4\n",
            "Years: 5\n",
            "Your monthly payment is: $552.4956616579792\n"
          ],
          "name": "stdout"
        }
      ]
    },
    {
      "cell_type": "markdown",
      "metadata": {
        "id": "SjiolJKgiWV-"
      },
      "source": [
        "##### Q5. Write a program to that prompts the user to enter a string. Then check whether or not the string is a palindrome.\n",
        "\n",
        "```\n",
        "Enter a string: Madam\n",
        "Madam, is a palindrome!\n",
        "```"
      ]
    },
    {
      "cell_type": "code",
      "metadata": {
        "id": "F5_M934Ri0es",
        "colab": {
          "base_uri": "https://localhost:8080/"
        },
        "outputId": "8fcb84f9-a939-40ab-a790-fe4798d08fc6"
      },
      "source": [
        "# DESCRIPTION: program that prompts the user to enter a string, then checks whether or not the string is a palindrome.\n",
        "\n",
        "# ask for input\n",
        "string = input(\"Enter a string: \")\n",
        "\n",
        "# turn input into upper case\n",
        "string = string.upper()\n",
        "\n",
        "\n",
        "# make empty lists for string and the reverse of the string\n",
        "og_string = []\n",
        "rev_string = []\n",
        "\n",
        "# add letters into the empty list\n",
        "for el in string:\n",
        "    if el != \" \":\n",
        "        og_string.append(el)\n",
        "\n",
        "for el in og_string[::-1]:\n",
        "    if el != \" \":\n",
        "        rev_string.append(el)\n",
        "\n",
        "isPalindrome = True\n",
        "\n",
        "# check if the list is the same\n",
        "for count, val in enumerate(og_string):\n",
        "  if og_string[count] != rev_string[count]:\n",
        "    isPalindrome = False\n",
        "\n",
        "# print result\n",
        "if isPalindrome == False:\n",
        "  print(string, \", is NOT a palindrome!\")\n",
        "elif isPalindrome == True:\n",
        "  print(string, \", is a palindrome!\")\n"
      ],
      "execution_count": null,
      "outputs": [
        {
          "output_type": "stream",
          "text": [
            "Enter a string: madam\n",
            "['M', 'A', 'D', 'A', 'M']\n",
            "['M', 'A', 'D', 'A', 'M']\n",
            "MADAM , is a palindrome!\n"
          ],
          "name": "stdout"
        }
      ]
    },
    {
      "cell_type": "markdown",
      "metadata": {
        "id": "rUPDjYiIkbgs"
      },
      "source": [
        "##### Q7. Ask the user to enter two positive integers between 1 and 100. Read those integers. Then output a multiplication table of the first number times the second number. \n",
        "\n",
        "Note: You have to ensure the entered numbers are between 1 and 100 only.\n",
        "\n",
        "```\n",
        "Please enter an integer: 5\n",
        "Please enter another integer: 20\n",
        "5 x 1 = 5\n",
        "5 x 2 = 10\n",
        "5 x 3 = 15\n",
        "…\n",
        "5 x 20 = 100\n",
        "```"
      ]
    },
    {
      "cell_type": "code",
      "metadata": {
        "id": "Qg0Orv1klHzA",
        "colab": {
          "base_uri": "https://localhost:8080/"
        },
        "outputId": "e5ddcd4c-8022-4b4f-b11a-78125d8b1556"
      },
      "source": [
        "# DESCRIPTION: \n",
        "# 1. Asks the user to enter two positive integers between 1 and 100\n",
        "# 2. Reads those integers\n",
        "# 3. Outputs a multiplication table of the first number times the second number\n",
        "\n",
        "num = int(input(\"Please enter an integer: \"))\n",
        "max = int(input(\"Please enter another integer: \"))\n",
        "for i in range(1,(max+1)):\n",
        "  print(str(num), \"x\", str(i), \"=\", str(num*i))"
      ],
      "execution_count": null,
      "outputs": [
        {
          "output_type": "stream",
          "text": [
            "Please enter an integer: 5\n",
            "Please enter another integer: 20\n",
            "5 x 1 = 5\n",
            "5 x 2 = 10\n",
            "5 x 3 = 15\n",
            "5 x 4 = 20\n",
            "5 x 5 = 25\n",
            "5 x 6 = 30\n",
            "5 x 7 = 35\n",
            "5 x 8 = 40\n",
            "5 x 9 = 45\n",
            "5 x 10 = 50\n",
            "5 x 11 = 55\n",
            "5 x 12 = 60\n",
            "5 x 13 = 65\n",
            "5 x 14 = 70\n",
            "5 x 15 = 75\n",
            "5 x 16 = 80\n",
            "5 x 17 = 85\n",
            "5 x 18 = 90\n",
            "5 x 19 = 95\n",
            "5 x 20 = 100\n"
          ],
          "name": "stdout"
        }
      ]
    },
    {
      "cell_type": "markdown",
      "metadata": {
        "id": "SbnbPUPTlLD9"
      },
      "source": [
        "##### Q8. Write a program to ask the user to enter a password. Then check to see if it is a valid password based on these requirements -\n",
        "\n",
        "Must be at least 8 characters long\n",
        "\n",
        "Must contain both uppercase and lowercase letters\n",
        "\n",
        "Must contain at least one number between 0-9\n",
        "\n",
        "Must contain a special character -!,@,#,$\n",
        "\n",
        "If the password is not valid, ask the user to re-enter. This should continue until the user enters a valid password. After a valid password is entered, print Access Granted!\n",
        "\n",
        "```\n",
        "Please enter a password. Follow these requirements - \n",
        "a. Must be at least 8 characters long\n",
        "b. Must contain both uppercase and lowercase letters\n",
        "c. Must contain at least one number between 0-9\n",
        "d. Must contain a special character -!,@,#,$\n",
        "Password: HelloWorld1\n",
        "Invalid password. Try again!\n",
        "Password: Hello@World1\n",
        "Access Granted!\n",
        "```\n"
      ]
    },
    {
      "cell_type": "code",
      "metadata": {
        "id": "OXmZ177Rl-RV",
        "colab": {
          "base_uri": "https://localhost:8080/"
        },
        "outputId": "b2452d1b-0761-429d-ad9d-78d4fc768956"
      },
      "source": [
        "# DESCRIPTION: program that asks the user to enter a password and then checks to see if it is a valid password based on certain requirements \n",
        "\n",
        "error = True\n",
        "req_count = 0\n",
        "while error == True:\n",
        "  print(\"Please enter a password. Follow these requirements - \\na. Must be at least 8 characters long \\nb. Must contain both uppercase and lowercase letters \\nc. Must contain at least one number between 0-9 \\nd. Must contain a special character -!,@,#,$\")\n",
        "  pswd = input(\"Password: \")\n",
        "\n",
        "  # a. Check that password is at least 8 characters long\n",
        "  if(len(pswd) >= 8):\n",
        "    req_count += 1\n",
        "\n",
        "  # b. Check that password contains both uppercase and lowercase letters\n",
        "  hasUpper = False\n",
        "  hasLower = False\n",
        "  for el in pswd:\n",
        "    if (el.isupper() == True):\n",
        "      hasUpper = True\n",
        "    if (el.islower() == True):\n",
        "      hasLower = True\n",
        "  if (hasUpper == True and hasLower == True):\n",
        "    req_count += 1\n",
        "\n",
        "  # c. Check that password contains at least one number between 0-9\n",
        "  hasNum = False\n",
        "  for el in pswd:\n",
        "    for num in range(10):\n",
        "      if el.isnumeric():\n",
        "        if (int(el) == num):\n",
        "          hasNum = True\n",
        "  if(hasNum == True):\n",
        "    req_count += 1\n",
        "\n",
        "  # d. Check that password contains a special character -!,@,#,$\n",
        "  hasSpCh = False\n",
        "  spCh = [\"!\",\"@\",\"#\",\"$\"]\n",
        "  for el in pswd:\n",
        "    for x in spCh:\n",
        "      if(el == x):\n",
        "        hasSpCh = True\n",
        "  if hasSpCh == True:\n",
        "    req_count += 1\n",
        "\n",
        "  # Check that password meets all requirments\n",
        "  if(req_count == 4):\n",
        "    print(\"Access Granted!\")\n",
        "    error = False\n",
        "  else:\n",
        "    print(\"Invalid password. Try again!\")"
      ],
      "execution_count": null,
      "outputs": [
        {
          "output_type": "stream",
          "text": [
            "Please enter a password. Follow these requirements - \n",
            "a. Must be at least 8 characters long \n",
            "b. Must contain both uppercase and lowercase letters \n",
            "c. Must contain at least one number between 0-9 \n",
            "d. Must contain a special character -!,@,#,$\n",
            "Password: Hello@World1\n",
            "Access Granted!\n"
          ],
          "name": "stdout"
        }
      ]
    },
    {
      "cell_type": "markdown",
      "metadata": {
        "id": "-0sdutTDnTKA"
      },
      "source": [
        "##### Q9. Given the score sheet of participants in a competition, you are required to find the runner-up score. You are given scores in a list. Find the score of the runner-up.\n",
        "\n",
        "```\n",
        "list1 - [2, 3, 6, 6, 5]\n",
        "runner_up - 5\n",
        "\n",
        "list2 - [1, 7, 5, 3, 10, 4, 5, 5, 6, 11]\n",
        "runner_up - 10\n",
        "```"
      ]
    },
    {
      "cell_type": "code",
      "metadata": {
        "colab": {
          "base_uri": "https://localhost:8080/"
        },
        "id": "6GWlCmkEW6yz",
        "outputId": "790b84ac-710e-4e33-c998-00d382a30e0f"
      },
      "source": [
        "# DESCRIPTION: program that finds the runner up score in given lists of scores\n",
        "\n",
        "# given list\n",
        "list1 = [2, 3, 6, 6, 5]\n",
        "list2 = [1, 7, 5, 3, 10, 4, 5, 5, 6, 11]\n",
        "\n",
        "# sort list so largest value is at beginning\n",
        "list1.sort(reverse=True)\n",
        "list2.sort(reverse=True)\n",
        "\n",
        "# find largest value\n",
        "max_list1 = list1[0]\n",
        "max_list2 = list2[0]\n",
        "\n",
        "# remove all instances of largest value\n",
        "list1.remove(max_list1)\n",
        "list2.remove(max_list2)\n",
        "\n",
        "# the runner up is now the largest value in this list, we can use this info to print the runner up\n",
        "runner_list1 = list1[1]\n",
        "runner_list2 = list2[1]\n",
        "\n",
        "# print runner up of each list\n",
        "print(\"runner_up -\", runner_list1)\n",
        "print(\"runner_up -\", runner_list2)"
      ],
      "execution_count": null,
      "outputs": [
        {
          "output_type": "stream",
          "text": [
            "runner_up - 5\n",
            "runner_up - 7\n"
          ],
          "name": "stdout"
        }
      ]
    }
  ]
}